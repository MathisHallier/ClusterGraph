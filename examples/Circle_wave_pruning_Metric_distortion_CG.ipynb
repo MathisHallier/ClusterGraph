{
 "cells": [
  {
   "cell_type": "code",
   "execution_count": null,
   "id": "2f4a57f7",
   "metadata": {},
   "outputs": [],
   "source": [
    "import pandas as pd\n",
    "import numpy as np\n",
    "from sklearn.mixture import BayesianGaussianMixture\n",
    "from sklearn.cluster import DBSCAN,KMeans\n",
    "\n",
    "import clustergraph.clustergraph as cg\n",
    "import clustergraph.distances as d\n",
    "import clustergraph.plotting as cp\n",
    "import clustergraph.metric_distortion as md\n",
    "\n",
    "\n",
    "%matplotlib widget\n",
    "\n",
    "circle = pd.read_csv(\"data/points\", sep ='\\t', header =None) \n",
    "X = circle.to_numpy()"
   ]
  },
  {
   "cell_type": "code",
   "execution_count": null,
   "id": "c8e1e383",
   "metadata": {},
   "outputs": [],
   "source": [
    "import matplotlib.pyplot as plt\n",
    "from mpl_toolkits.mplot3d import Axes3D\n",
    "\n",
    "fig = plt.figure()\n",
    "ax = fig.add_subplot(111, projection='3d')\n",
    "\n",
    "ax.scatter(X[:,0], X[:,1]  , X[:,2] ) \n",
    "\n",
    "plt.show()"
   ]
  },
  {
   "cell_type": "code",
   "execution_count": null,
   "id": "1237f201",
   "metadata": {},
   "outputs": [],
   "source": [
    "model_KM = KMeans(24, random_state =42)\n",
    "prediction_KM =model_KM.fit_predict(X)\n",
    "\n",
    "# Get the clusters from the predictions\n",
    "clusters = cg.get_clusters_from_scikit(prediction_KM)\n",
    "\n",
    "# Creation of the distance_between_clusters object\n",
    "distance_clusters_ = d.Creation_distances( clusters = clusters, X = X, metric_clusters = \"avg\").get_distance_cluster()\n",
    "  \n",
    "# Creation of the object\n",
    "cluster_g_KM = cg.ClusterGraph(distance_clusters_)\n",
    "\n",
    "# Compute the distances between all the clusters\n",
    "cluster_g_KM.distances_clusters(normalize = False)\n",
    "\n"
   ]
  },
  {
   "cell_type": "markdown",
   "id": "75d94bf2",
   "metadata": {},
   "source": [
    "### Visualizing ClusterGraph "
   ]
  },
  {
   "cell_type": "code",
   "execution_count": null,
   "id": "60a7225c",
   "metadata": {},
   "outputs": [],
   "source": [
    "%matplotlib widget\n",
    "keep = cp.draw_distances_graph(cluster_g_KM.graph)"
   ]
  },
  {
   "cell_type": "markdown",
   "id": "e1c6bde5",
   "metadata": {},
   "source": [
    "# Metric distortion of a ClusterGraph (score)"
   ]
  },
  {
   "cell_type": "markdown",
   "id": "5a9b2364",
   "metadata": {},
   "source": [
    "## Creation of the K-Nearest Neighbors Graph"
   ]
  },
  {
   "cell_type": "code",
   "execution_count": null,
   "id": "49d84ea5",
   "metadata": {},
   "outputs": [],
   "source": [
    "%%time\n",
    "\n",
    "from sklearn.neighbors import NearestNeighbors\n",
    "import networkx as nx\n",
    "\n",
    "\n",
    "nb = 3\n",
    "neigh = NearestNeighbors(n_neighbors = nb,  radius = 1)\n",
    "neigh.fit(X=X)\n",
    "nn_adjacency = neigh.kneighbors_graph(X= X , n_neighbors = nb, mode='distance')\n",
    "\n",
    "nn_Graph = nx.from_scipy_sparse_array(nn_adjacency, edge_attribute = 'label')\n",
    "\n",
    "## remove self edges\n",
    "for node in nn_Graph.nodes:\n",
    "    nn_Graph.remove_edge(node,node)\n",
    "    \n",
    "nx.number_connected_components(nn_Graph)"
   ]
  },
  {
   "cell_type": "markdown",
   "id": "a0288aa3",
   "metadata": {},
   "source": [
    "## Metric distortion before pruning"
   ]
  },
  {
   "cell_type": "code",
   "execution_count": null,
   "id": "de540ce7",
   "metadata": {},
   "outputs": [],
   "source": [
    "km_dist = md.metric_distortion_edges_CG( cluster_g_KM.graph , nn_Graph, variable= 'label' ) \n",
    "\n",
    "print(\"Score for ClusterGraph before the edge pruning : \", km_dist )\n",
    "\n",
    "%matplotlib widget\n",
    "keep = cp.draw_distances_graph(cluster_g_KM.graph)"
   ]
  },
  {
   "cell_type": "markdown",
   "id": "852dd133",
   "metadata": {},
   "source": [
    "## Metric Distortion after edge pruning"
   ]
  },
  {
   "cell_type": "code",
   "execution_count": null,
   "id": "4485d442",
   "metadata": {},
   "outputs": [],
   "source": [
    "%%time\n",
    "\n",
    "%matplotlib inline\n",
    "\n",
    "g_pruned = md.md_cg_pruned(cluster_g_KM.graph , nn_Graph, clusters, variable = 'label', plot_connectivity = True )\n",
    "\n",
    "km_dist_after = md.metric_distortion_edges_CG( g_pruned , nn_Graph, variable= 'label' ) \n",
    "\n",
    "print(\"Score for ClusterGraph after the edge pruning : \", km_dist_after )\n",
    "\n",
    "%matplotlib widget\n",
    "keep = cp.draw_distances_graph(g_pruned)"
   ]
  },
  {
   "cell_type": "markdown",
   "id": "710c7357",
   "metadata": {},
   "source": [
    "# Comparison ClusterGraph and PCA"
   ]
  },
  {
   "cell_type": "code",
   "execution_count": null,
   "id": "1d64b865",
   "metadata": {},
   "outputs": [],
   "source": [
    "from sklearn.decomposition import PCA\n",
    "from sklearn.preprocessing import StandardScaler\n",
    "\n",
    "scaler = StandardScaler()\n",
    "X_stand = scaler.fit_transform(X)\n",
    "pca = PCA(2)\n",
    "X_pca = pca.fit_transform(X_stand)\n",
    "\n",
    "print(np.sum(pca.explained_variance_ratio_) )\n",
    "pca.explained_variance_ratio_"
   ]
  },
  {
   "cell_type": "markdown",
   "id": "60168dfc",
   "metadata": {},
   "source": [
    "Visualization comparing ClusterGraph and the points cloud obtained from Umap"
   ]
  },
  {
   "cell_type": "code",
   "execution_count": null,
   "id": "a411973a",
   "metadata": {},
   "outputs": [],
   "source": [
    "t_left = \"ClusterGraph\"\n",
    "t_right = 'Points cloud from PCA'\n",
    "info_1 = cluster_g_KM.graph\n",
    "\n",
    "nb_1 = 46\n",
    "\n",
    "cp.compare_graph_cloud( info_graph = info_1,\n",
    "    X_cloud= X_pca , nb_edges= nb_1, title_left=t_left,\n",
    "    title_right= t_right,\n",
    "    size_points=6, MIN_SCALE=7, MAX_SCALE=20, font_size_edges_labels= \"20px\" )\n"
   ]
  }
 ],
 "metadata": {
  "kernelspec": {
   "display_name": "Python 3 (ipykernel)",
   "language": "python",
   "name": "python3"
  },
  "language_info": {
   "codemirror_mode": {
    "name": "ipython",
    "version": 3
   },
   "file_extension": ".py",
   "mimetype": "text/x-python",
   "name": "python",
   "nbconvert_exporter": "python",
   "pygments_lexer": "ipython3",
   "version": "3.9.7"
  }
 },
 "nbformat": 4,
 "nbformat_minor": 5
}
