{
 "cells": [
  {
   "cell_type": "code",
   "execution_count": 15,
   "metadata": {},
   "outputs": [],
   "source": [
    "import numpy as np\n",
    "import pandas as pd\n",
    "\n",
    "import matplotlib.pyplot as plt\n",
    "\n",
    "import clustergraph.clustergraph as cg\n",
    "import clustergraph.distances as d\n",
    "import clustergraph.plotting as cp\n",
    "import clustergraph.metric_distortion as md"
   ]
  },
  {
   "cell_type": "code",
   "execution_count": 16,
   "metadata": {},
   "outputs": [],
   "source": [
    "from sklearn.datasets import make_blobs\n",
    "\n",
    "X, y = make_blobs(n_samples=[20, 80], centers=[[0,0], [10,10]], n_features=2, cluster_std=1,\n",
    "                  random_state=42)"
   ]
  },
  {
   "cell_type": "code",
   "execution_count": 17,
   "metadata": {},
   "outputs": [
    {
     "data": {
      "text/plain": [
       "<matplotlib.collections.PathCollection at 0x147bf2d70>"
      ]
     },
     "execution_count": 17,
     "metadata": {},
     "output_type": "execute_result"
    },
    {
     "data": {
      "image/png": "[encoded data removed]",
      "text/plain": [
       "<Figure size 640x480 with 1 Axes>"
      ]
     },
     "metadata": {},
     "output_type": "display_data"
    }
   ],
   "source": [
    "plt.scatter(X[:, 0], X[:, 1], c=y)"
   ]
  },
  {
   "attachments": {},
   "cell_type": "markdown",
   "metadata": {},
   "source": [
    "### NN graph"
   ]
  },
  {
   "cell_type": "code",
   "execution_count": 18,
   "metadata": {},
   "outputs": [
    {
     "name": "stdout",
     "output_type": "stream",
     "text": [
      "CPU times: user 11.4 ms, sys: 802 µs, total: 12.2 ms\n",
      "Wall time: 11.5 ms\n"
     ]
    },
    {
     "data": {
      "text/plain": [
       "1"
      ]
     },
     "execution_count": 18,
     "metadata": {},
     "output_type": "execute_result"
    }
   ],
   "source": [
    "%%time\n",
    "\n",
    "from sklearn.neighbors import NearestNeighbors\n",
    "import networkx as nx\n",
    "\n",
    "\n",
    "nb = 21\n",
    "neigh = NearestNeighbors(n_neighbors = nb,  radius = 1)\n",
    "neigh.fit(X=X)\n",
    "nn_adjacency = neigh.kneighbors_graph(X= X , n_neighbors = nb, mode='distance')\n",
    "\n",
    "nn_Graph = nx.from_scipy_sparse_array(nn_adjacency, edge_attribute = 'label')\n",
    "\n",
    "## remove self edges\n",
    "for node in nn_Graph.nodes:\n",
    "    nn_Graph.remove_edge(node,node)\n",
    "    \n",
    "nx.number_connected_components(nn_Graph)"
   ]
  },
  {
   "attachments": {},
   "cell_type": "markdown",
   "metadata": {},
   "source": [
    "## ClusterGraph"
   ]
  },
  {
   "cell_type": "code",
   "execution_count": 19,
   "metadata": {},
   "outputs": [
    {
     "name": "stdout",
     "output_type": "stream",
     "text": [
      "[0 1]\n"
     ]
    }
   ],
   "source": [
    "cacca = cg.get_clusters_from_scikit(y)"
   ]
  },
  {
   "cell_type": "code",
   "execution_count": 20,
   "metadata": {},
   "outputs": [
    {
     "name": "stdout",
     "output_type": "stream",
     "text": [
      "Score for ClusterGraph from KMeans using min distance :  -0.13801828574314828\n",
      "Score for ClusterGraph from KMeans using max distance :  0.08377584685316343\n",
      "Score for ClusterGraph from KMeans using avg distance :  -0.004975683717138935\n"
     ]
    }
   ],
   "source": [
    "label = ['min', 'max', 'avg']\n",
    "\n",
    "for l in label:\n",
    "\n",
    "    # Creation of the distance_between_clusters object\n",
    "    distance_clusters_ = d.Creation_distances(clusters = cacca, X = X, metric_clusters = l).get_distance_cluster()\n",
    "\n",
    "    # Creation of the object\n",
    "    cluster_g_KM = cg.ClusterGraph(distance_clusters_)\n",
    "\n",
    "    # Compute the distances between all the clusters\n",
    "    cluster_g_KM.distances_clusters(normalize = False)\n",
    "\n",
    "    km_dist = md.metric_distortion_edges_CG( cluster_g_KM.graph , nn_Graph, variable= 'label' , use_abs = False) \n",
    "\n",
    "    print(\"Score for ClusterGraph from KMeans using {} distance : \".format(l), km_dist )\n",
    "    cluster_g_KM.graph.edges(data=True)"
   ]
  },
  {
   "cell_type": "code",
   "execution_count": 21,
   "metadata": {},
   "outputs": [
    {
     "name": "stdout",
     "output_type": "stream",
     "text": [
      "Score for ClusterGraph from KMeans using min distance :  0.13801828574314828\n",
      "Score for ClusterGraph from KMeans using max distance :  0.08381553031262307\n",
      "Score for ClusterGraph from KMeans using avg distance :  0.031068248586988156\n"
     ]
    }
   ],
   "source": [
    "label = ['min', 'max', 'avg']\n",
    "\n",
    "for l in label:\n",
    "\n",
    "    # Creation of the distance_between_clusters object\n",
    "    distance_clusters_ = d.Creation_distances(clusters = cacca, X = X, metric_clusters = l).get_distance_cluster()\n",
    "\n",
    "    # Creation of the object\n",
    "    cluster_g_KM = cg.ClusterGraph(distance_clusters_)\n",
    "\n",
    "    # Compute the distances between all the clusters\n",
    "    cluster_g_KM.distances_clusters(normalize = False)\n",
    "\n",
    "    km_dist = md.metric_distortion_edges_CG( cluster_g_KM.graph , nn_Graph, variable= 'label' , use_abs = True) \n",
    "\n",
    "    print(\"Score for ClusterGraph from KMeans using {} distance : \".format(l), km_dist )\n",
    "    cluster_g_KM.graph.edges(data=True)"
   ]
  },
  {
   "cell_type": "code",
   "execution_count": 8,
   "metadata": {},
   "outputs": [
    {
     "ename": "TypeError",
     "evalue": "distortion_two_clusters() missing 1 required positional argument: 'use_abs'",
     "output_type": "error",
     "traceback": [
      "\u001b[0;31m---------------------------------------------------------------------------\u001b[0m",
      "\u001b[0;31mTypeError\u001b[0m                                 Traceback (most recent call last)",
      "Cell \u001b[0;32mIn[8], line 1\u001b[0m\n\u001b[0;32m----> 1\u001b[0m dm \u001b[39m=\u001b[39m md\u001b[39m.\u001b[39;49mmetric_distortion_matrix( cluster_g_KM\u001b[39m.\u001b[39;49mgraph , nn_Graph, variable\u001b[39m=\u001b[39;49m \u001b[39m'\u001b[39;49m\u001b[39mlabel\u001b[39;49m\u001b[39m'\u001b[39;49m ) \n\u001b[1;32m      2\u001b[0m dm\n",
      "File \u001b[0;32m~/GitHub/ClusterGraph/clustergraph/metric_distortion.py:152\u001b[0m, in \u001b[0;36mmetric_distortion_matrix\u001b[0;34m(cg, nn_graph, variable)\u001b[0m\n\u001b[1;32m    149\u001b[0m c2 \u001b[39m=\u001b[39m cg\u001b[39m.\u001b[39mnodes[n2][\u001b[39m'\u001b[39m\u001b[39mpoints_covered\u001b[39m\u001b[39m'\u001b[39m]\n\u001b[1;32m    151\u001b[0m \u001b[39m# We compute the distortion for the two clusters \u001b[39;00m\n\u001b[0;32m--> 152\u001b[0m distortion_2_clusters \u001b[39m=\u001b[39m distortion_two_clusters(d_cg, c1, c2, dijkstra_length_dict )\n\u001b[1;32m    153\u001b[0m \u001b[39m#new_cg.edges[(n1,n2)][variable] = distortion_2_clusters\u001b[39;00m\n\u001b[1;32m    155\u001b[0m \u001b[39mif\u001b[39;00m(distortion_2_clusters \u001b[39m==\u001b[39m np\u001b[39m.\u001b[39minf) :\n",
      "\u001b[0;31mTypeError\u001b[0m: distortion_two_clusters() missing 1 required positional argument: 'use_abs'"
     ]
    }
   ],
   "source": [
    "dm = md.metric_distortion_matrix( cluster_g_KM.graph , nn_Graph, variable= 'label' ) \n",
    "dm"
   ]
  },
  {
   "cell_type": "code",
   "execution_count": null,
   "metadata": {},
   "outputs": [],
   "source": []
  }
 ],
 "metadata": {
  "kernelspec": {
   "display_name": "tda",
   "language": "python",
   "name": "python3"
  },
  "language_info": {
   "codemirror_mode": {
    "name": "ipython",
    "version": 3
   },
   "file_extension": ".py",
   "mimetype": "text/x-python",
   "name": "python",
   "nbconvert_exporter": "python",
   "pygments_lexer": "ipython3",
   "version": "3.10.9"
  },
  "orig_nbformat": 4
 },
 "nbformat": 4,
 "nbformat_minor": 2
}
