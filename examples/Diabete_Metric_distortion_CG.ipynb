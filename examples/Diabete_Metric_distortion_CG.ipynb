{
 "cells": [
  {
   "cell_type": "code",
   "execution_count": null,
   "id": "2f4a57f7",
   "metadata": {},
   "outputs": [],
   "source": [
    "import pandas as pd\n",
    "import numpy as np\n",
    "from sklearn.mixture import BayesianGaussianMixture\n",
    "from sklearn.cluster import DBSCAN,KMeans\n",
    "\n",
    "import clustergraph.clustergraph as cg\n",
    "import clustergraph.distances as d\n",
    "import clustergraph.plotting as cp\n",
    "import clustergraph.metric_distortion as md\n",
    "\n",
    "\n",
    "# Diabete DATASET\n",
    "diabete = pd.read_csv(\"data/diabete.csv\", sep =',') \n",
    "headers_diabete = diabete.columns.values\n",
    "X_diabete= diabete.to_numpy()\n",
    "\n",
    "\n",
    "X_labels = X_diabete[:,5]\n",
    "X = X_diabete[:,:5]"
   ]
  },
  {
   "cell_type": "markdown",
   "id": "fc5d6ae3",
   "metadata": {},
   "source": [
    "# Metric distortion of a ClusterGraph (score)"
   ]
  },
  {
   "cell_type": "markdown",
   "id": "5a9b2364",
   "metadata": {},
   "source": [
    "## Creation of the K-Nearest Neighbors Graph"
   ]
  },
  {
   "cell_type": "code",
   "execution_count": null,
   "id": "49d84ea5",
   "metadata": {},
   "outputs": [],
   "source": [
    "%%time\n",
    "\n",
    "from sklearn.neighbors import NearestNeighbors\n",
    "import networkx as nx\n",
    "\n",
    "\n",
    "nb = 4\n",
    "neigh = NearestNeighbors(n_neighbors = nb,  radius = 1)\n",
    "neigh.fit(X=X)\n",
    "nn_adjacency = neigh.kneighbors_graph(X= X , n_neighbors = nb, mode='distance')\n",
    "\n",
    "nn_Graph = nx.from_scipy_sparse_array(nn_adjacency, edge_attribute = 'label')\n",
    "\n",
    "## remove self edges\n",
    "for node in nn_Graph.nodes:\n",
    "    nn_Graph.remove_edge(node,node)\n",
    "    \n",
    "nx.number_connected_components(nn_Graph)"
   ]
  },
  {
   "cell_type": "markdown",
   "id": "a0288aa3",
   "metadata": {},
   "source": [
    "## Metric distortion depending on the clustering algorithms and the metric used"
   ]
  },
  {
   "cell_type": "markdown",
   "id": "c8940ce4",
   "metadata": {},
   "source": [
    "### KMeans"
   ]
  },
  {
   "cell_type": "code",
   "execution_count": null,
   "id": "de540ce7",
   "metadata": {},
   "outputs": [],
   "source": [
    "model_KM = KMeans(15, random_state =42)\n",
    "prediction_KM =model_KM.fit_predict(X)\n",
    "\n",
    "# Get the clusters from the predictions\n",
    "clusters = cg.get_clusters_from_scikit(prediction_KM)\n",
    "\n",
    "# Creation of the distance_between_clusters object\n",
    "distance_clusters_ = d.Creation_distances( clusters = clusters, X = X, metric_clusters = \"avg\").get_distance_cluster()\n",
    "  \n",
    "# Creation of the object\n",
    "cluster_g_KM = cg.ClusterGraph(distance_clusters_)\n",
    "\n",
    "# Compute the distances between all the clusters\n",
    "cluster_g_KM.distances_clusters(normalize = False)\n",
    "\n",
    "km_dist = md.metric_distortion_edges_CG( cluster_g_KM.graph , nn_Graph, variable= 'label' ) \n",
    "\n",
    "print(\"Score for ClusterGraph from KMeans using average distance : \", km_dist )"
   ]
  },
  {
   "cell_type": "markdown",
   "id": "f2b6b75e",
   "metadata": {},
   "source": [
    "### GAUSSIAN MIXTURE"
   ]
  },
  {
   "cell_type": "code",
   "execution_count": null,
   "id": "bb453fcb",
   "metadata": {},
   "outputs": [],
   "source": [
    "model_GM = BayesianGaussianMixture(n_components = 5, random_state =42)\n",
    "prediction_GM =model_GM.fit_predict(X)\n",
    "clusters = cg.get_clusters_from_scikit(prediction_GM)\n",
    "\n",
    "# Creation of the distance_between_clusters object\n",
    "distance_clusters_ = d.Creation_distances( clusters = clusters, X = X, metric_clusters = \"min\").get_distance_cluster()\n",
    "  \n",
    "# Creation of the object\n",
    "cluster_g_GM = cg.ClusterGraph(distance_clusters_)\n",
    "\n",
    "# Compute the distances between all the clusters\n",
    "cluster_g_GM .distances_clusters(normalize = False)\n",
    "\n",
    "gm_dist = md.metric_distortion_edges_CG( cluster_g_GM.graph , nn_Graph, variable= 'label' ) \n",
    "\n",
    "print(\"Score for ClusterGraph from Gaussian Mixture using the minimum distance : \", gm_dist )"
   ]
  },
  {
   "cell_type": "markdown",
   "id": "232bf817",
   "metadata": {},
   "source": [
    "## Visualization two ClusterGraphs"
   ]
  },
  {
   "cell_type": "markdown",
   "id": "b6afcc0a",
   "metadata": {},
   "source": [
    "Plot comparing the location of the points between two ClusterGraphs"
   ]
  },
  {
   "cell_type": "code",
   "execution_count": null,
   "id": "a411973a",
   "metadata": {},
   "outputs": [],
   "source": [
    "t_left = \"ClusterGraph by using KMeans\"\n",
    "t_right = 'ClusterGraph by using Gaussian Mixture'\n",
    "\n",
    "\n",
    "# Choice first graph\n",
    "info_1 = cluster_g_KM.graph\n",
    "number_edges_wanted_1 = 29\n",
    "\n",
    "# Choice second graph\n",
    "info_2 = cluster_g_GM.graph\n",
    "number_edges_wanted_2 = 6\n",
    "\n",
    "\n",
    "cp.show_graphs(  info_1 , nb_edges_1 = number_edges_wanted_1, nb_edges_2 = number_edges_wanted_2 , info_graph_2 = info_2,\n",
    "               title_left=t_left , title_right = t_right , choice_col_type = 'points_covered', \n",
    "               color_non_selected_nodes = 'white' , \n",
    "                font_size_edges_labels = '10px', MIN_SCALE = 5, MAX_SCALE =25 ) \n"
   ]
  }
 ],
 "metadata": {
  "kernelspec": {
   "display_name": "Python 3 (ipykernel)",
   "language": "python",
   "name": "python3"
  },
  "language_info": {
   "codemirror_mode": {
    "name": "ipython",
    "version": 3
   },
   "file_extension": ".py",
   "mimetype": "text/x-python",
   "name": "python",
   "nbconvert_exporter": "python",
   "pygments_lexer": "ipython3",
   "version": "3.9.7"
  }
 },
 "nbformat": 4,
 "nbformat_minor": 5
}
